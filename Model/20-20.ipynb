{
 "cells": [
  {
   "cell_type": "code",
   "execution_count": 1,
   "id": "76bb5662",
   "metadata": {},
   "outputs": [],
   "source": [
    "import numpy as np\n",
    "import cv2 as cv\n",
    "import random\n",
    "import os\n",
    "import matplotlib.pyplot as plt\n",
    "import pickle\n",
    "%matplotlib inline"
   ]
  },
  {
   "cell_type": "code",
   "execution_count": 2,
   "id": "2669e060",
   "metadata": {},
   "outputs": [],
   "source": [
    "DIRECTORY = r'C:\\Users\\Arjun M S\\Desktop\\20-20\\Model\\dataset'\n",
    "# a raw string(r'...') is used to treat backslash(\\) as a normal character\n",
    "CATEGORIES = ['mammooty','mohanlal']"
   ]
  },
  {
   "cell_type": "code",
   "execution_count": 3,
   "id": "0b329309",
   "metadata": {},
   "outputs": [],
   "source": [
    "IMG_SIZE = 100\n",
    "\n",
    "data = []\n",
    "\n",
    "for category in CATEGORIES:\n",
    "    folder = os.path.join(DIRECTORY, category)\n",
    "    label = CATEGORIES.index(category)\n",
    "    for img in os.listdir(folder):\n",
    "        img_path = os.path.join(folder, img)\n",
    "        img_arr = cv.imread(img_path)\n",
    "        img_arr =cv.resize(img_arr,(IMG_SIZE,IMG_SIZE))\n",
    "        data.append([img_arr,label])\n",
    "#         labelling the data\n"
   ]
  },
  {
   "cell_type": "code",
   "execution_count": 4,
   "id": "95ee6767",
   "metadata": {},
   "outputs": [
    {
     "data": {
      "text/plain": [
       "594"
      ]
     },
     "execution_count": 4,
     "metadata": {},
     "output_type": "execute_result"
    }
   ],
   "source": [
    "len(data)\n",
    "#total no:of data present"
   ]
  },
  {
   "cell_type": "code",
   "execution_count": 5,
   "id": "f0a5346c",
   "metadata": {},
   "outputs": [],
   "source": [
    "random.shuffle(data)\n",
    "# to shuffle the data"
   ]
  },
  {
   "cell_type": "code",
   "execution_count": 6,
   "id": "abd1a6c0",
   "metadata": {},
   "outputs": [],
   "source": [
    "X = []\n",
    "y = []\n",
    "\n",
    "for features, labels in data:\n",
    "    X.append(features)\n",
    "    y.append(labels)"
   ]
  },
  {
   "cell_type": "code",
   "execution_count": 7,
   "id": "9efab0e1",
   "metadata": {},
   "outputs": [],
   "source": [
    "X = np.array(X)\n",
    "y = np.array(y)\n",
    "# changed X & y into arrays and stored it in respective variables"
   ]
  },
  {
   "cell_type": "code",
   "execution_count": 8,
   "id": "c00f4505",
   "metadata": {},
   "outputs": [
    {
     "data": {
      "text/plain": [
       "594"
      ]
     },
     "execution_count": 8,
     "metadata": {},
     "output_type": "execute_result"
    }
   ],
   "source": [
    "len(X)"
   ]
  },
  {
   "cell_type": "code",
   "execution_count": 9,
   "id": "60224b45",
   "metadata": {},
   "outputs": [],
   "source": [
    "X = pickle.dump(X,open('X.pkl', 'wb'))\n",
    "y = pickle.dump(y,open('y.pkl', 'wb'))\n",
    "\n",
    "# storing data in a pickle file\n"
   ]
  },
  {
   "cell_type": "code",
   "execution_count": null,
   "id": "b0763386",
   "metadata": {},
   "outputs": [],
   "source": []
  }
 ],
 "metadata": {
  "kernelspec": {
   "display_name": "Python 3",
   "language": "python",
   "name": "python3"
  },
  "language_info": {
   "codemirror_mode": {
    "name": "ipython",
    "version": 3
   },
   "file_extension": ".py",
   "mimetype": "text/x-python",
   "name": "python",
   "nbconvert_exporter": "python",
   "pygments_lexer": "ipython3",
   "version": "3.9.4"
  }
 },
 "nbformat": 4,
 "nbformat_minor": 5
}
