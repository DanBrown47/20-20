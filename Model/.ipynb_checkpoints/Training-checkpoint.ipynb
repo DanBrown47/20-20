{
 "cells": [
  {
   "cell_type": "markdown",
   "id": "6b626100",
   "metadata": {},
   "source": [
    "# Training"
   ]
  },
  {
   "cell_type": "code",
   "execution_count": 1,
   "id": "0b43aa0b",
   "metadata": {},
   "outputs": [],
   "source": [
    "import pickle"
   ]
  },
  {
   "cell_type": "code",
   "execution_count": 2,
   "id": "f471538e",
   "metadata": {},
   "outputs": [],
   "source": [
    "X = pickle.load(open('X.pkl','rb'))\n",
    "y = pickle.load(open('y.pkl','rb'))"
   ]
  },
  {
   "cell_type": "code",
   "execution_count": 3,
   "id": "81c9bbf6",
   "metadata": {},
   "outputs": [],
   "source": [
    "X = X/255"
   ]
  },
  {
   "cell_type": "code",
   "execution_count": 4,
   "id": "c8cbb37a",
   "metadata": {},
   "outputs": [
    {
     "data": {
      "text/plain": [
       "(584, 224, 224, 3)"
      ]
     },
     "execution_count": 4,
     "metadata": {},
     "output_type": "execute_result"
    }
   ],
   "source": [
    "X.shape"
   ]
  },
  {
   "cell_type": "code",
   "execution_count": 5,
   "id": "471951c7",
   "metadata": {},
   "outputs": [],
   "source": [
    "import time "
   ]
  },
  {
   "cell_type": "code",
   "execution_count": 6,
   "id": "0c083f1f",
   "metadata": {
    "scrolled": true
   },
   "outputs": [],
   "source": [
    "from keras.models import Sequential\n",
    "from keras.layers import Conv2D, MaxPooling2D, Flatten, Dense"
   ]
  },
  {
   "cell_type": "code",
   "execution_count": 7,
   "id": "3f012017",
   "metadata": {},
   "outputs": [],
   "source": [
    "from tensorflow.keras.callbacks import TensorBoard"
   ]
  },
  {
   "cell_type": "code",
   "execution_count": 8,
   "id": "73a65a4f",
   "metadata": {},
   "outputs": [],
   "source": [
    "NAME = f'mamootty-vs-mohanlal-prediction-{int(time.time())}'\n",
    "tensorboard = TensorBoard(log_dir=f'logs\\\\{NAME}\\\\')"
   ]
  },
  {
   "cell_type": "code",
   "execution_count": 9,
   "id": "fd7af97b",
   "metadata": {},
   "outputs": [],
   "source": [
    "model = Sequential()"
   ]
  },
  {
   "cell_type": "code",
   "execution_count": 10,
   "id": "0c13c43c",
   "metadata": {},
   "outputs": [],
   "source": [
    "model.add(Conv2D(64,(3,3), activation='relu'))\n",
    "model.add(MaxPooling2D((2,2)))\n",
    "\n",
    "model.add(Conv2D(64,(3,3), activation='relu'))\n",
    "model.add(MaxPooling2D((2,2)))\n",
    "\n",
    "model.add(Flatten())\n",
    "\n",
    "model.add(Dense(128, input_shape = X.shape[1:], activation = 'relu'))\n",
    "\n",
    "model.add(Dense(2, activation= 'softmax'))"
   ]
  },
  {
   "cell_type": "code",
   "execution_count": 11,
   "id": "e582ee2b",
   "metadata": {},
   "outputs": [],
   "source": [
    "model.compile(optimizer = 'adam', loss='sparse_categorical_crossentropy', metrics = ['accuracy'])"
   ]
  },
  {
   "cell_type": "code",
   "execution_count": 12,
   "id": "9c5537e7",
   "metadata": {},
   "outputs": [
    {
     "name": "stdout",
     "output_type": "stream",
     "text": [
      "Epoch 1/5\n",
      "17/17 [==============================] - 136s 4s/step - loss: 3.0902 - accuracy: 0.5149 - val_loss: 0.5429 - val_accuracy: 0.7627\n",
      "Epoch 2/5\n",
      "17/17 [==============================] - 41s 2s/step - loss: 0.5193 - accuracy: 0.7569 - val_loss: 0.2182 - val_accuracy: 0.9322\n",
      "Epoch 3/5\n",
      "17/17 [==============================] - 39s 2s/step - loss: 0.2592 - accuracy: 0.9147 - val_loss: 0.2503 - val_accuracy: 0.8814\n",
      "Epoch 4/5\n",
      "17/17 [==============================] - 39s 2s/step - loss: 0.1087 - accuracy: 0.9559 - val_loss: 0.1355 - val_accuracy: 0.9661\n",
      "Epoch 5/5\n",
      "17/17 [==============================] - 40s 2s/step - loss: 0.0436 - accuracy: 0.9895 - val_loss: 0.0932 - val_accuracy: 0.9661\n"
     ]
    },
    {
     "data": {
      "text/plain": [
       "<keras.callbacks.History at 0x1619a0c2670>"
      ]
     },
     "execution_count": 12,
     "metadata": {},
     "output_type": "execute_result"
    }
   ],
   "source": [
    "model.fit(X,y,epochs=5,validation_split=0.1, batch_size=32, callbacks=[tensorboard])"
   ]
  },
  {
   "cell_type": "code",
   "execution_count": 13,
   "id": "502f183f",
   "metadata": {},
   "outputs": [
    {
     "name": "stdout",
     "output_type": "stream",
     "text": [
      "19/19 [==============================] - 10s 524ms/step - loss: 0.0227 - accuracy: 0.9966\n",
      "[0.022733405232429504, 0.9965753555297852]\n"
     ]
    }
   ],
   "source": [
    "print(model.evaluate(X, y))"
   ]
  },
  {
   "cell_type": "code",
   "execution_count": 14,
   "id": "297770bb",
   "metadata": {},
   "outputs": [
    {
     "name": "stdout",
     "output_type": "stream",
     "text": [
      "INFO:tensorflow:Assets written to: cnn.model\\assets\n"
     ]
    }
   ],
   "source": [
    "model.save('cnn.model')"
   ]
  },
  {
   "cell_type": "code",
   "execution_count": null,
   "id": "adb88b31",
   "metadata": {},
   "outputs": [],
   "source": []
  }
 ],
 "metadata": {
  "kernelspec": {
   "display_name": "Python 3",
   "language": "python",
   "name": "python3"
  },
  "language_info": {
   "codemirror_mode": {
    "name": "ipython",
    "version": 3
   },
   "file_extension": ".py",
   "mimetype": "text/x-python",
   "name": "python",
   "nbconvert_exporter": "python",
   "pygments_lexer": "ipython3",
   "version": "3.9.4"
  }
 },
 "nbformat": 4,
 "nbformat_minor": 5
}
