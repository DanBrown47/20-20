{
 "cells": [
  {
   "cell_type": "code",
   "execution_count": 1,
   "id": "c6bc823e",
   "metadata": {},
   "outputs": [],
   "source": [
    "import numpy as np\n",
    "import cv2\n",
    "import keras"
   ]
  },
  {
   "cell_type": "code",
   "execution_count": 2,
   "id": "78b26d23",
   "metadata": {},
   "outputs": [],
   "source": [
    "CATEGORIES = ['mammooty', 'mohanlal']\n",
    "\n",
    "\n",
    "def image(path):\n",
    "    img = cv2.imread(path, cv2.IMREAD_GRAYSCALE)\n",
    "    new_arr = cv2.resize(img, (224, 224))\n",
    "    new_arr = np.array(new_arr)\n",
    "    new_arr = new_arr.reshape(-1, 224,224, 1)\n",
    "    return new_arr"
   ]
  },
  {
   "cell_type": "code",
   "execution_count": 15,
   "id": "dc422667",
   "metadata": {},
   "outputs": [],
   "source": [
    "model = keras.models.load_model('cnn3.model')"
   ]
  },
  {
   "cell_type": "code",
   "execution_count": 14,
   "id": "f0421a50",
   "metadata": {
    "scrolled": true
   },
   "outputs": [
    {
     "name": "stdout",
     "output_type": "stream",
     "text": [
      "[[9.045261e-28 1.000000e+00]]\n",
      "I dont know this guy!\n"
     ]
    }
   ],
   "source": [
    "result = model.predict([image('test_images/mamooty05.png')])\n",
    "print(result)\n",
    "if result[0][0] == 1:\n",
    "    prediction = 'mamooty'\n",
    "elif result[0][0] == 0:\n",
    "    prediction = 'mohanlal'\n",
    "else:\n",
    "    prediction = 'I dont know this guy!'\n",
    "print(prediction)"
   ]
  },
  {
   "cell_type": "code",
   "execution_count": 5,
   "id": "eac47cec",
   "metadata": {},
   "outputs": [
    {
     "name": "stdout",
     "output_type": "stream",
     "text": [
      "mammooty\n"
     ]
    }
   ],
   "source": [
    "print(CATEGORIES[result.argmax()])"
   ]
  },
  {
   "cell_type": "code",
   "execution_count": 6,
   "id": "2d81328f",
   "metadata": {},
   "outputs": [
    {
     "data": {
      "text/plain": [
       "array([[1., 0.]], dtype=float32)"
      ]
     },
     "execution_count": 6,
     "metadata": {},
     "output_type": "execute_result"
    }
   ],
   "source": [
    "model.predict([image('test_images/mohanlal348.png')])"
   ]
  },
  {
   "cell_type": "code",
   "execution_count": null,
   "id": "d4e027f0",
   "metadata": {},
   "outputs": [],
   "source": []
  }
 ],
 "metadata": {
  "kernelspec": {
   "display_name": "Python 3",
   "language": "python",
   "name": "python3"
  },
  "language_info": {
   "codemirror_mode": {
    "name": "ipython",
    "version": 3
   },
   "file_extension": ".py",
   "mimetype": "text/x-python",
   "name": "python",
   "nbconvert_exporter": "python",
   "pygments_lexer": "ipython3",
   "version": "3.9.4"
  }
 },
 "nbformat": 4,
 "nbformat_minor": 5
}
