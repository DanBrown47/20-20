{
 "cells": [
  {
   "cell_type": "markdown",
   "id": "fb09cad4",
   "metadata": {},
   "source": [
    "## Part 4 - Making prediction"
   ]
  },
  {
   "cell_type": "code",
   "execution_count": 1,
   "id": "c6bc823e",
   "metadata": {},
   "outputs": [],
   "source": [
    "import numpy as np\n",
    "import cv2\n",
    "import keras"
   ]
  },
  {
   "cell_type": "code",
   "execution_count": 2,
   "id": "78b26d23",
   "metadata": {},
   "outputs": [],
   "source": [
    "CATEGORIES = ['mammooty', 'mohanlal']\n",
    "\n",
    "\n",
    "def image(path):\n",
    "    img = cv2.imread(path, cv2.IMREAD_GRAYSCALE)\n",
    "    new_arr = cv2.resize(img, (224, 224))\n",
    "    new_arr = np.array(new_arr)\n",
    "    new_arr = new_arr.reshape(-1, 224,224, 1)\n",
    "    return new_arr\n",
    "#preprocessing the user input"
   ]
  },
  {
   "cell_type": "code",
   "execution_count": 3,
   "id": "dc422667",
   "metadata": {},
   "outputs": [],
   "source": [
    "model = keras.models.load_model('cnn3.model')"
   ]
  },
  {
   "cell_type": "code",
   "execution_count": 23,
   "id": "f0421a50",
   "metadata": {
    "scrolled": true
   },
   "outputs": [
    {
     "name": "stdout",
     "output_type": "stream",
     "text": [
      "mohanlal\n"
     ]
    }
   ],
   "source": [
    "result = model.predict([image('test_images/mohanlal.png')])\n",
    "if result[0][0] == 1:\n",
    "    prediction = 'mamooty'\n",
    "elif result[0][0] == 0:\n",
    "    prediction = 'mohanlal'\n",
    "else:\n",
    "    prediction = 'I dont know this guy!'\n",
    "print(prediction)"
   ]
  },
  {
   "cell_type": "code",
   "execution_count": null,
   "id": "d4e027f0",
   "metadata": {},
   "outputs": [],
   "source": []
  }
 ],
 "metadata": {
  "kernelspec": {
   "display_name": "Python 3",
   "language": "python",
   "name": "python3"
  },
  "language_info": {
   "codemirror_mode": {
    "name": "ipython",
    "version": 3
   },
   "file_extension": ".py",
   "mimetype": "text/x-python",
   "name": "python",
   "nbconvert_exporter": "python",
   "pygments_lexer": "ipython3",
   "version": "3.9.4"
  }
 },
 "nbformat": 4,
 "nbformat_minor": 5
}
